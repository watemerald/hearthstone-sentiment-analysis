{
 "cells": [
  {
   "cell_type": "code",
   "execution_count": 23,
   "id": "bbc210a7",
   "metadata": {},
   "outputs": [],
   "source": [
    "import pandas as pd\n",
    "import json"
   ]
  },
  {
   "cell_type": "code",
   "execution_count": 22,
   "id": "5fa6e1e5",
   "metadata": {},
   "outputs": [],
   "source": [
    "with open(\"../data/raw/tweets.jsonl\") as f:\n",
    "    tweet_searches = f.readlines()"
   ]
  },
  {
   "cell_type": "code",
   "execution_count": 45,
   "id": "23921d30",
   "metadata": {},
   "outputs": [],
   "source": [
    "from pydantic import BaseModel\n",
    "from typing import Optional, List\n",
    "from datetime import datetime\n",
    "\n",
    "class PublicMetricsModel(BaseModel):\n",
    "    retweet_count: int\n",
    "    reply_count: int\n",
    "    like_count: int\n",
    "    quote_count: int\n",
    "        \n",
    "class TweetModel(BaseModel):\n",
    "    public_metrics: PublicMetricsModel\n",
    "    text: str\n",
    "    created_at: datetime\n",
    "    author_id: int\n",
    "    id: int\n",
    "\n",
    "class UserModel(BaseModel):\n",
    "    id: int\n",
    "    name: str\n",
    "    username: str\n",
    "\n",
    "class IncludesResult(BaseModel):\n",
    "    users: List[UserModel]\n",
    "\n",
    "class MetaModel(BaseModel):\n",
    "    result_count: int\n",
    "    newest_id: Optional[int]\n",
    "    oldest_id: Optional[int]\n",
    "        \n",
    "class SearchResult(BaseModel):\n",
    "    meta: MetaModel\n",
    "    includes: Optional[IncludesResult]\n",
    "    data: Optional[List[TweetModel]]"
   ]
  },
  {
   "cell_type": "code",
   "execution_count": 67,
   "id": "ec52d21e",
   "metadata": {},
   "outputs": [
    {
     "data": {
      "text/plain": [
       "{'text': '😜 https://t.co/xYL0cheL6r',\n",
       " 'created_at': datetime.datetime(2021, 4, 26, 21, 12, 15, tzinfo=datetime.timezone.utc),\n",
       " 'author_id': 2214159667,\n",
       " 'id': 1386790251134431241}"
      ]
     },
     "execution_count": 67,
     "metadata": {},
     "output_type": "execute_result"
    }
   ],
   "source": [
    "SearchResult(**json.loads(tweet_searches[1])).data[0].dict(exclude={'public_metrics'})"
   ]
  },
  {
   "cell_type": "code",
   "execution_count": 53,
   "id": "535bb23f",
   "metadata": {},
   "outputs": [],
   "source": [
    "user_df = pd.DataFrame(columns=['id', 'name', 'username'])\n",
    "tweet_df = pd.DataFrame(columns=['id', 'author_id', 'created_at', 'text', 'retweet_count', 'reply_count', 'like_count', 'quote_count'])"
   ]
  },
  {
   "cell_type": "code",
   "execution_count": 78,
   "id": "2ee388d4",
   "metadata": {},
   "outputs": [],
   "source": [
    "for search_result in tweet_searches:\n",
    "    result = SearchResult(**json.loads(search_result))\n",
    "    \n",
    "    if result.data is None:\n",
    "        continue\n",
    "    \n",
    "    for user in result.includes.users:\n",
    "        user_df = user_df.append(user.dict(), ignore_index=True)\n",
    "    \n",
    "    for tweet in result.data:\n",
    "        metrics = tweet.public_metrics.dict()\n",
    "        info = tweet.dict(exclude={'public_metrics'})\n",
    "        \n",
    "        info.update(metrics)\n",
    "        \n",
    "        tweet_df = tweet_df.append(info, ignore_index=True)"
   ]
  },
  {
   "cell_type": "code",
   "execution_count": 85,
   "id": "4782ef64",
   "metadata": {},
   "outputs": [
    {
     "data": {
      "text/plain": [
       "350"
      ]
     },
     "execution_count": 85,
     "metadata": {},
     "output_type": "execute_result"
    }
   ],
   "source": [
    "len(user_df.id.unique())"
   ]
  },
  {
   "cell_type": "code",
   "execution_count": 86,
   "id": "1b36f215",
   "metadata": {},
   "outputs": [
    {
     "data": {
      "text/plain": [
       "533"
      ]
     },
     "execution_count": 86,
     "metadata": {},
     "output_type": "execute_result"
    }
   ],
   "source": [
    "len(user_df)"
   ]
  },
  {
   "cell_type": "code",
   "execution_count": null,
   "id": "1506e99b",
   "metadata": {},
   "outputs": [],
   "source": []
  }
 ],
 "metadata": {
  "kernelspec": {
   "display_name": "hearthstone-sentiment-analysis",
   "language": "python",
   "name": "hearthstone-sentiment-analysis"
  },
  "language_info": {
   "codemirror_mode": {
    "name": "ipython",
    "version": 3
   },
   "file_extension": ".py",
   "mimetype": "text/x-python",
   "name": "python",
   "nbconvert_exporter": "python",
   "pygments_lexer": "ipython3",
   "version": "3.8.5"
  }
 },
 "nbformat": 4,
 "nbformat_minor": 5
}
