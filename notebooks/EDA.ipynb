{
 "cells": [
  {
   "cell_type": "code",
   "execution_count": 1,
   "id": "comprehensive-cambridge",
   "metadata": {},
   "outputs": [],
   "source": [
    "import pandas as pd"
   ]
  },
  {
   "cell_type": "code",
   "execution_count": 2,
   "id": "affecting-recommendation",
   "metadata": {},
   "outputs": [],
   "source": [
    "df1 = pd.read_csv(\n",
    "    \"../data/Hearthstone - most watched Twitch channels - SullyGnome1-100.csv\"\n",
    ")\n",
    "\n",
    "df2 = pd.read_csv(\n",
    "    \"../data/Hearthstone - most watched Twitch channels - SullyGnome101-200.csv\"\n",
    ")"
   ]
  },
  {
   "cell_type": "code",
   "execution_count": 3,
   "id": "pending-wings",
   "metadata": {},
   "outputs": [],
   "source": [
    "df = pd.concat([df1, df2], ignore_index=True)"
   ]
  },
  {
   "cell_type": "code",
   "execution_count": 4,
   "id": "functioning-musical",
   "metadata": {},
   "outputs": [],
   "source": [
    "df = (\n",
    "    df.rename(columns={\"Unnamed: 0\": \"Avatar\", \"Unnamed: 1\": \"Rank\"})\n",
    "    .drop([\"Unnamed: 13\"], axis=1)\n",
    "    .rename(columns=str.lower)\n",
    "    .rename(columns=lambda x: \"_\".join(x.split()))\n",
    "    \n",
    ")"
   ]
  },
  {
   "cell_type": "code",
   "execution_count": 38,
   "id": "enormous-surgery",
   "metadata": {},
   "outputs": [],
   "source": [
    "twitter_urls = []"
   ]
  },
  {
   "cell_type": "code",
   "execution_count": null,
   "id": "private-fountain",
   "metadata": {},
   "outputs": [],
   "source": [
    "for channel in df['channel']:\n",
    "    print(f\"https://twitch.tv/{channel}/about\")\n",
    "    twitter_url = input(\"Twitter URL?\")\n",
    "    twitter_urls.append(t)"
   ]
  },
  {
   "cell_type": "code",
   "execution_count": 42,
   "id": "matched-values",
   "metadata": {},
   "outputs": [],
   "source": [
    "df['twitter_link'] = twitter_urls"
   ]
  },
  {
   "cell_type": "code",
   "execution_count": 45,
   "id": "simplified-delay",
   "metadata": {},
   "outputs": [],
   "source": [
    "df.to_csv(\"../data/hearthstobne-twitch-data.csv\")"
   ]
  },
  {
   "cell_type": "code",
   "execution_count": 54,
   "id": "cloudy-blackjack",
   "metadata": {},
   "outputs": [],
   "source": [
    "with open('../data/twitter_users.txt', 'w') as f:\n",
    "    f.write(\"\\n\".join([url.split('/')[-1] for url in twitter_urls if url]))"
   ]
  },
  {
   "cell_type": "code",
   "execution_count": null,
   "id": "sought-density",
   "metadata": {},
   "outputs": [],
   "source": []
  }
 ],
 "metadata": {
  "kernelspec": {
   "display_name": "hearthstone-sentiment-analysis",
   "language": "python",
   "name": "hearthstone-sentiment-analysis"
  },
  "language_info": {
   "codemirror_mode": {
    "name": "ipython",
    "version": 3
   },
   "file_extension": ".py",
   "mimetype": "text/x-python",
   "name": "python",
   "nbconvert_exporter": "python",
   "pygments_lexer": "ipython3",
   "version": "3.8.5"
  }
 },
 "nbformat": 4,
 "nbformat_minor": 5
}
